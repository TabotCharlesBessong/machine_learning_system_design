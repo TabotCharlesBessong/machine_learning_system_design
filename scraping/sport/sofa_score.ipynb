{
 "cells": [
  {
   "cell_type": "code",
   "execution_count": 1,
   "id": "6286e551",
   "metadata": {},
   "outputs": [],
   "source": [
    "import requests\n",
    "from bs4 import BeautifulSoup"
   ]
  },
  {
   "cell_type": "code",
   "execution_count": 2,
   "id": "51d5407d",
   "metadata": {},
   "outputs": [],
   "source": [
    "response = requests.get(\n",
    "  'https://www.sofascore.com/football/match/crb-coritiba/HOsHPi#id:13616230',\n",
    "  headers={'user-agent': 'Mozilla/5.0 (X11; Linux aarch64) AppleWebKit/537.36 (KHTML, like Gecko) Chrome/138.0.0.0 Safari/537.36 CrKey/1.54.250320'} # you'll be blocked if you don't use some type of user agent\n",
    ")"
   ]
  },
  {
   "cell_type": "code",
   "execution_count": 3,
   "id": "cf5a700d",
   "metadata": {},
   "outputs": [
    {
     "data": {
      "text/plain": [
       "403"
      ]
     },
     "execution_count": 3,
     "metadata": {},
     "output_type": "execute_result"
    }
   ],
   "source": [
    "response.status_code"
   ]
  },
  {
   "cell_type": "code",
   "execution_count": 7,
   "id": "dfe1a983",
   "metadata": {},
   "outputs": [],
   "source": [
    "soup = BeautifulSoup(response.text,'html.parser')"
   ]
  },
  {
   "cell_type": "code",
   "execution_count": 8,
   "id": "497514ed",
   "metadata": {},
   "outputs": [
    {
     "data": {
      "text/plain": [
       "[]"
      ]
     },
     "execution_count": 8,
     "metadata": {},
     "output_type": "execute_result"
    }
   ],
   "source": [
    "soup.select('g[cursor=\"pointer\"]')"
   ]
  },
  {
   "cell_type": "code",
   "execution_count": 9,
   "id": "76e3a9f9",
   "metadata": {},
   "outputs": [],
   "source": [
    "# These are the headers we need to access the API\n",
    "headers = {\n",
    "  'authority': 'api.sofascore.com',\n",
    "  'accept': '*/*',\n",
    "  'accept-language': 'en-US,en;q=0.9',\n",
    "  'cache-control': 'max-age=0',\n",
    "  'dnt': '1',\n",
    "  'if-none-match': 'W/\"4bebed6144\"',\n",
    "  'origin': 'https://www.sofascore.com',\n",
    "  'referer': 'https://www.sofascore.com/',\n",
    "  'sec-ch-ua': '\"Not.A/Brand\";v=\"8\", \"Chromium\";v=\"114\"',\n",
    "  'sec-ch-ua-mobile': '?0',\n",
    "  'sec-ch-ua-platform': '\"macOS\"',\n",
    "  'sec-fetch-dest': 'empty',\n",
    "  'sec-fetch-mode': 'cors',\n",
    "  'sec-fetch-site': 'same-site',\n",
    "  'user-agent': 'Mozilla/5.0 (Macintosh; Intel Mac OS X 10_15_7) AppleWebKit/537.36 (KHTML, like Gecko) Chrome/114.0.0.0 Safari/537.36',\n",
    "}\n",
    "\n",
    "# you'll need to change the url to match the one you copied. As you can see they have some sort of match id to identify the game --> 10385636\n",
    "response = requests.get('https://api.sofascore.com/api/v1/event/10385636/shotmap', headers=headers)"
   ]
  },
  {
   "cell_type": "code",
   "execution_count": null,
   "id": "8e5a9535",
   "metadata": {},
   "outputs": [
    {
     "data": {
      "text/plain": [
       "403"
      ]
     },
     "execution_count": 11,
     "metadata": {},
     "output_type": "execute_result"
    }
   ],
   "source": [
    "response"
   ]
  },
  {
   "cell_type": "code",
   "execution_count": 12,
   "id": "ad007ee9",
   "metadata": {},
   "outputs": [],
   "source": [
    "headers['If-Modified-Since'] = 'Tues, 18 Jul 2023 00:00:00 GMT'"
   ]
  },
  {
   "cell_type": "code",
   "execution_count": 13,
   "id": "0b82533e",
   "metadata": {},
   "outputs": [
    {
     "data": {
      "text/plain": [
       "<Response [403]>"
      ]
     },
     "execution_count": 13,
     "metadata": {},
     "output_type": "execute_result"
    }
   ],
   "source": [
    "response = requests.get('https://api.sofascore.com/api/v1/event/10385636/shotmap', headers=headers)\n",
    "response"
   ]
  },
  {
   "cell_type": "code",
   "execution_count": 14,
   "id": "cb54eaf8",
   "metadata": {},
   "outputs": [
    {
     "data": {
      "text/plain": [
       "{'error': {'code': 403, 'reason': 'Forbidden'}}"
      ]
     },
     "execution_count": 14,
     "metadata": {},
     "output_type": "execute_result"
    }
   ],
   "source": [
    "shots = response.json()\n",
    "shots"
   ]
  },
  {
   "cell_type": "code",
   "execution_count": null,
   "id": "6f9f72c7",
   "metadata": {},
   "outputs": [],
   "source": []
  }
 ],
 "metadata": {
  "kernelspec": {
   "display_name": "base",
   "language": "python",
   "name": "python3"
  },
  "language_info": {
   "codemirror_mode": {
    "name": "ipython",
    "version": 3
   },
   "file_extension": ".py",
   "mimetype": "text/x-python",
   "name": "python",
   "nbconvert_exporter": "python",
   "pygments_lexer": "ipython3",
   "version": "3.12.7"
  }
 },
 "nbformat": 4,
 "nbformat_minor": 5
}
