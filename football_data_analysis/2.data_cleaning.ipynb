{
 "cells": [
  {
   "cell_type": "code",
   "execution_count": null,
   "id": "847202b0",
   "metadata": {},
   "outputs": [],
   "source": [
    "import pandas as pd"
   ]
  },
  {
   "cell_type": "markdown",
   "id": "b97aa2fc",
   "metadata": {},
   "source": [
    "# Data Cleaning"
   ]
  },
  {
   "cell_type": "code",
   "execution_count": null,
   "id": "16291610",
   "metadata": {},
   "outputs": [],
   "source": [
    "df_historical_data = pd.read_csv('fifa_worldcup_matches.csv')\n",
    "df_fixture = pd.read_csv('fifa_worldcup_fixture.csv')\n",
    "df_missing_data = pd.read_csv('fifa_worldcup_missing_data.csv')"
   ]
  },
  {
   "cell_type": "markdown",
   "id": "48cefebb",
   "metadata": {},
   "source": [
    "## Cleaning df_fixture"
   ]
  },
  {
   "cell_type": "code",
   "execution_count": null,
   "id": "58a4b211",
   "metadata": {},
   "outputs": [],
   "source": [
    "df_fixture['home'] = df_fixture['home'].str.strip()\n",
    "df_fixture['away'] = df_fixture['away'].str.strip()"
   ]
  },
  {
   "cell_type": "markdown",
   "id": "fb97fffe",
   "metadata": {},
   "source": [
    "## Cleaning df_missing_data and adding it to df_historical_data"
   ]
  },
  {
   "cell_type": "code",
   "execution_count": null,
   "id": "74bb9632",
   "metadata": {
    "scrolled": false
   },
   "outputs": [],
   "source": [
    "# df_missing_data[df_missing_data['home'].isnull()]\n",
    "df_missing_data.dropna(inplace=True)\n",
    "df_historical_data = pd.concat([df_historical_data, df_missing_data], ignore_index=True)\n",
    "df_historical_data.drop_duplicates(inplace=True)\n",
    "df_historical_data.sort_values('year', inplace=True)\n",
    "df_historical_data"
   ]
  },
  {
   "cell_type": "markdown",
   "id": "f5fa40ce",
   "metadata": {},
   "source": [
    "## Cleaning df_historical_data"
   ]
  },
  {
   "cell_type": "code",
   "execution_count": null,
   "id": "aed92600",
   "metadata": {},
   "outputs": [],
   "source": [
    "# deleting match with walk over\n",
    "delete_index = df_historical_data[df_historical_data['home'].str.contains('Sweden') &\n",
    "                                  df_historical_data['away'].str.contains('Austria')].index\n",
    "\n",
    "df_historical_data.drop(index=delete_index, inplace=True)\n",
    "\n",
    "# cleanning score and home/away columns\n",
    "df_historical_data['score'] = df_historical_data['score'].str.replace('[^\\d–]', '', regex=True)\n",
    "df_historical_data['home'] = df_historical_data['home'].str.strip() # clean blank spaces: Yugoslavia twice\n",
    "df_historical_data['away'] = df_historical_data['away'].str.strip()\n",
    "\n",
    "# splitting score columns into home and away goals and dropping score column\n",
    "df_historical_data[['HomeGoals', 'AwayGoals']] = df_historical_data['score'].str.split('–', expand=True)\n",
    "df_historical_data.drop('score', axis=1, inplace=True)\n",
    "\n",
    "# renaming columns and changing data types\n",
    "df_historical_data.rename(columns={'home': 'HomeTeam', 'away': 'AwayTeam', \n",
    "                                   'year':'Year'}, inplace=True)\n",
    "df_historical_data = df_historical_data.astype({'HomeGoals': int, 'AwayGoals':int, 'Year': int})\n",
    "\n",
    "# creating new column \"totalgoals\"\n",
    "df_historical_data['TotalGoals'] = df_historical_data['HomeGoals'] + df_historical_data['AwayGoals']\n",
    "df_historical_data"
   ]
  },
  {
   "cell_type": "markdown",
   "id": "9a459f24",
   "metadata": {},
   "source": [
    "# Exporting clean dataframes"
   ]
  },
  {
   "cell_type": "code",
   "execution_count": null,
   "id": "12a3d8aa",
   "metadata": {},
   "outputs": [],
   "source": [
    "df_historical_data.to_csv('clean_fifa_worldcup_matches.csv',index=False)\n",
    "df_fixture.to_csv('clean_fifa_worldcup_fixture.csv',index=False)"
   ]
  },
  {
   "cell_type": "markdown",
   "id": "3cc51370",
   "metadata": {},
   "source": [
    "# Extra verifications"
   ]
  },
  {
   "cell_type": "code",
   "execution_count": null,
   "id": "f2b65b9f",
   "metadata": {},
   "outputs": [],
   "source": [
    "# verify number of matches per competition\n",
    "years = [1930, 1934, 1938, 1950, 1954, 1958, 1962, 1966, 1970, 1974,\n",
    "         1978, 1982, 1986, 1990, 1994, 1998, 2002, 2006, 2010, 2014,\n",
    "         2018]\n",
    "\n",
    "for year in years:\n",
    "    print(year, len(df_historical_data[df_historical_data['Year']==year]))"
   ]
  },
  {
   "cell_type": "code",
   "execution_count": null,
   "id": "c389c265",
   "metadata": {},
   "outputs": [],
   "source": [
    "# verify data collected for a team\n",
    "print(df_historical_data[df_historical_data['HomeTeam'].str.contains('Turkey')])\n",
    "print(df_historical_data[df_historical_data['AwayTeam'].str.contains('Turkey')])"
   ]
  }
 ],
 "metadata": {
  "kernelspec": {
   "display_name": "base",
   "language": "python",
   "name": "python3"
  },
  "language_info": {
   "codemirror_mode": {
    "name": "ipython",
    "version": 3
   },
   "file_extension": ".py",
   "mimetype": "text/x-python",
   "name": "python",
   "nbconvert_exporter": "python",
   "pygments_lexer": "ipython3",
   "version": "3.12.7"
  },
  "toc": {
   "base_numbering": 1,
   "nav_menu": {},
   "number_sections": true,
   "sideBar": true,
   "skip_h1_title": false,
   "title_cell": "Table of Contents",
   "title_sidebar": "Contents",
   "toc_cell": false,
   "toc_position": {},
   "toc_section_display": true,
   "toc_window_display": false
  }
 },
 "nbformat": 4,
 "nbformat_minor": 5
}
