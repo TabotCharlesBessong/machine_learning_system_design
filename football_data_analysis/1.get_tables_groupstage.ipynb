{
 "cells": [
  {
   "cell_type": "code",
   "execution_count": 20,
   "id": "77715dba",
   "metadata": {},
   "outputs": [],
   "source": [
    "import pandas as pd\n",
    "import pickle\n",
    "from string import ascii_uppercase as alphabet"
   ]
  },
  {
   "cell_type": "code",
   "execution_count": 21,
   "id": "d5e73c93",
   "metadata": {},
   "outputs": [],
   "source": [
    "all_tables = pd.read_html('https://en.wikipedia.org/wiki/2022_FIFA_World_Cup')"
   ]
  },
  {
   "cell_type": "code",
   "execution_count": 22,
   "id": "82d3187d",
   "metadata": {},
   "outputs": [
    {
     "name": "stdout",
     "output_type": "stream",
     "text": [
      "  Pos          Team\n",
      "0  C1     Argentina\n",
      "1  C2  Saudi Arabia\n",
      "2  C3        Mexico\n",
      "3  C4        Poland\n"
     ]
    }
   ],
   "source": [
    "print(all_tables[11])"
   ]
  },
  {
   "cell_type": "code",
   "execution_count": 23,
   "id": "7f72bf6c",
   "metadata": {},
   "outputs": [
    {
     "name": "stdout",
     "output_type": "stream",
     "text": [
      "   Pos      Teamvte  Pld  W  D  L  GF  GA  GD  Pts               Qualification\n",
      "0    1  Netherlands    3  2  1  0   5   1  +4    7  Advanced to knockout stage\n",
      "1    2      Senegal    3  2  0  1   5   4  +1    6  Advanced to knockout stage\n",
      "2    3      Ecuador    3  1  1  1   4   3  +1    4                         NaN\n",
      "3    4    Qatar (H)    3  0  0  3   1   7  −6    0                         NaN\n"
     ]
    }
   ],
   "source": [
    "print(all_tables[18])"
   ]
  },
  {
   "cell_type": "code",
   "execution_count": 24,
   "id": "770e603d",
   "metadata": {},
   "outputs": [
    {
     "name": "stdout",
     "output_type": "stream",
     "text": [
      "   Pos        Teamvte  Pld  W  D  L  GF  GA  GD  Pts  \\\n",
      "0    1        England    3  2  1  0   9   2  +7    7   \n",
      "1    2  United States    3  1  2  0   2   1  +1    5   \n",
      "2    3           Iran    3  1  0  2   4   7  −3    3   \n",
      "3    4          Wales    3  0  1  2   1   6  −5    1   \n",
      "\n",
      "                Qualification  \n",
      "0  Advanced to knockout stage  \n",
      "1  Advanced to knockout stage  \n",
      "2                         NaN  \n",
      "3                         NaN  \n"
     ]
    }
   ],
   "source": [
    "print(all_tables[25])"
   ]
  },
  {
   "cell_type": "code",
   "execution_count": 25,
   "id": "02163d79",
   "metadata": {},
   "outputs": [
    {
     "name": "stdout",
     "output_type": "stream",
     "text": [
      "  Pos          Team\n",
      "0  C1     Argentina\n",
      "1  C2  Saudi Arabia\n",
      "2  C3        Mexico\n",
      "3  C4        Poland\n",
      "\n",
      "\n",
      "  Pos       Team\n",
      "0  D1     France\n",
      "1  D2  Australia\n",
      "2  D3    Denmark\n",
      "3  D4    Tunisia\n",
      "\n",
      "\n",
      "  Pos        Team\n",
      "0  E1       Spain\n",
      "1  E2  Costa Rica\n",
      "2  E3     Germany\n",
      "3  E4       Japan\n",
      "\n",
      "\n",
      "  Pos     Team\n",
      "0  F1  Belgium\n",
      "1  F2   Canada\n",
      "2  F3  Morocco\n",
      "3  F4  Croatia\n",
      "\n",
      "\n",
      "  Pos         Team\n",
      "0  G1       Brazil\n",
      "1  G2       Serbia\n",
      "2  G3  Switzerland\n",
      "3  G4     Cameroon\n",
      "\n",
      "\n",
      "  Pos         Team\n",
      "0  H1     Portugal\n",
      "1  H2        Ghana\n",
      "2  H3      Uruguay\n",
      "3  H4  South Korea\n",
      "\n",
      "\n",
      "                Tie-breaking criteria for group play\n",
      "0  The ranking of teams in the group stage was de...\n",
      "\n",
      "\n"
     ]
    }
   ],
   "source": [
    "for i in range(11,18):\n",
    "  print(all_tables[i])\n",
    "  print(\"\\n\")"
   ]
  },
  {
   "cell_type": "code",
   "execution_count": 30,
   "id": "4790939d",
   "metadata": {},
   "outputs": [
    {
     "name": "stdout",
     "output_type": "stream",
     "text": [
      "   Qatar     0–2                   Ecuador\n",
      "0    NaN  Report  Valencia 16' (pen.), 31'\n",
      "\n",
      "\n",
      "   Senegal     0–2               Netherlands\n",
      "0      NaN  Report  Gakpo 84' Klaassen 90+9'\n",
      "\n",
      "\n",
      "         Qatar     1–3                            Senegal\n",
      "0  Muntari 78'  Report  Dia 41' Diédhiou 48' B. Dieng 84'\n",
      "\n",
      "\n",
      "  Netherlands     1–1       Ecuador\n",
      "0    Gakpo 6'  Report  Valencia 49'\n",
      "\n",
      "\n",
      "       Ecuador     1–2                           Senegal\n",
      "0  Caicedo 67'  Report  I. Sarr 44' (pen.) Koulibaly 70'\n",
      "\n",
      "\n",
      "                Netherlands     2–0  Qatar\n",
      "0  Gakpo 26' F. de Jong 49'  Report    NaN\n",
      "\n",
      "\n",
      "   Pos        Teamvte  Pld  W  D  L  GF  GA  GD  Pts  \\\n",
      "0    1        England    3  2  1  0   9   2  +7    7   \n",
      "1    2  United States    3  1  2  0   2   1  +1    5   \n",
      "2    3           Iran    3  1  0  2   4   7  −3    3   \n",
      "3    4          Wales    3  0  1  2   1   6  −5    1   \n",
      "\n",
      "                Qualification  \n",
      "0  Advanced to knockout stage  \n",
      "1  Advanced to knockout stage  \n",
      "2                         NaN  \n",
      "3                         NaN  \n",
      "\n",
      "\n",
      "                                             England     6–2  \\\n",
      "0  Bellingham 35' Saka 43', 62' Sterling 45+1' Ra...  Report   \n",
      "\n",
      "                        Iran  \n",
      "0  Taremi 65', 90+13' (pen.)  \n",
      "\n",
      "\n",
      "  United States     1–1            Wales\n",
      "0      Weah 36'  Report  Bale 82' (pen.)\n",
      "\n",
      "\n",
      "   Wales     0–2                           Iran\n",
      "0    NaN  Report  Cheshmi 90+8' Rezaeian 90+11'\n",
      "\n",
      "\n",
      "   England     0–0  United States\n",
      "0      NaN  Report            NaN\n",
      "\n",
      "\n",
      "   Wales     0–3                      England\n",
      "0    NaN  Report  Rashford 50', 68' Foden 51'\n",
      "\n",
      "\n"
     ]
    }
   ],
   "source": [
    "for i in range(19,31):\n",
    "  print(all_tables[i])\n",
    "  print(\"\\n\")"
   ]
  },
  {
   "cell_type": "code",
   "execution_count": 36,
   "id": "4bfacbd6",
   "metadata": {},
   "outputs": [
    {
     "name": "stdout",
     "output_type": "stream",
     "text": [
      "   Pos       Teamvte  Pld  W  D  L  GF  GA  GD  Pts  \\\n",
      "0    1     Argentina    3  2  0  1   5   2  +3    6   \n",
      "1    2        Poland    3  1  1  1   2   2   0    4   \n",
      "2    3        Mexico    3  1  1  1   2   3  −1    4   \n",
      "3    4  Saudi Arabia    3  1  0  2   3   5  −2    3   \n",
      "\n",
      "                Qualification  \n",
      "0  Advanced to knockout stage  \n",
      "1  Advanced to knockout stage  \n",
      "2                         NaN  \n",
      "3                         NaN  \n",
      "32\n",
      "\n",
      "\n",
      "          Argentina     1–2                     Saudi Arabia\n",
      "0  Messi 10' (pen.)  Report  Al-Shehri 48' S. Al-Dawsari 53'\n",
      "33\n",
      "\n",
      "\n",
      "   Mexico     0–0  Poland\n",
      "0     NaN  Report     NaN\n",
      "34\n",
      "\n",
      "\n",
      "                          Poland     2–0  Saudi Arabia\n",
      "0  Zieliński 39' Lewandowski 82'  Report           NaN\n",
      "35\n",
      "\n",
      "\n",
      "                 Argentina     2–0  Mexico\n",
      "0  Messi 64' Fernández 87'  Report     NaN\n",
      "36\n",
      "\n",
      "\n",
      "   Poland     0–2                     Argentina\n",
      "0     NaN  Report  Mac Allister 46' Álvarez 67'\n",
      "37\n",
      "\n",
      "\n",
      "          Saudi Arabia     1–2                 Mexico\n",
      "0  S. Al-Dawsari 90+5'  Report  Martín 47' Chávez 52'\n",
      "38\n",
      "\n",
      "\n",
      "   Pos    Teamvte  Pld  W  D  L  GF  GA  GD  Pts               Qualification\n",
      "0    1     France    3  2  0  1   6   3  +3    6  Advanced to knockout stage\n",
      "1    2  Australia    3  2  0  1   3   4  −1    6  Advanced to knockout stage\n",
      "2    3    Tunisia    3  1  1  1   1   1   0    4                         NaN\n",
      "3    4    Denmark    3  0  1  2   1   3  −2    1                         NaN\n",
      "39\n",
      "\n",
      "\n",
      "   Denmark     0–0  Tunisia\n",
      "0      NaN  Report      NaN\n",
      "40\n",
      "\n",
      "\n",
      "                                  France     4–1   Australia\n",
      "0  Rabiot 27' Giroud 32', 71' Mbappé 68'  Report  Goodwin 9'\n",
      "41\n",
      "\n",
      "\n",
      "   Tunisia     0–1 Australia\n",
      "0      NaN  Report  Duke 23'\n",
      "42\n",
      "\n",
      "\n",
      "            France     2–1             Denmark\n",
      "0  Mbappé 61', 86'  Report  A. Christensen 68'\n",
      "43\n",
      "\n",
      "\n",
      "    Australia     1–0  Denmark\n",
      "0  Leckie 60'  Report      NaN\n",
      "44\n",
      "\n",
      "\n"
     ]
    }
   ],
   "source": [
    "for i in range(32,45):\n",
    "  print(all_tables[i])\n",
    "  print(i)\n",
    "  print(\"\\n\")"
   ]
  },
  {
   "cell_type": "code",
   "execution_count": 39,
   "id": "19ca4e98",
   "metadata": {},
   "outputs": [
    {
     "name": "stdout",
     "output_type": "stream",
     "text": [
      "   Pos    Teamvte  Pld  W  D  L  GF  GA  GD  Pts               Qualification\n",
      "0    1     France    3  2  0  1   6   3  +3    6  Advanced to knockout stage\n",
      "1    2  Australia    3  2  0  1   3   4  −1    6  Advanced to knockout stage\n",
      "2    3    Tunisia    3  1  1  1   1   1   0    4                         NaN\n",
      "3    4    Denmark    3  0  1  2   1   3  −2    1                         NaN\n",
      "39\n",
      "\n",
      "\n",
      "   Denmark     0–0  Tunisia\n",
      "0      NaN  Report      NaN\n",
      "40\n",
      "\n",
      "\n",
      "                                  France     4–1   Australia\n",
      "0  Rabiot 27' Giroud 32', 71' Mbappé 68'  Report  Goodwin 9'\n",
      "41\n",
      "\n",
      "\n",
      "   Tunisia     0–1 Australia\n",
      "0      NaN  Report  Duke 23'\n",
      "42\n",
      "\n",
      "\n",
      "            France     2–1             Denmark\n",
      "0  Mbappé 61', 86'  Report  A. Christensen 68'\n",
      "43\n",
      "\n",
      "\n",
      "    Australia     1–0  Denmark\n",
      "0  Leckie 60'  Report      NaN\n",
      "44\n",
      "\n",
      "\n",
      "      Tunisia     1–0  France\n",
      "0  Khazri 58'  Report     NaN\n",
      "45\n",
      "\n",
      "\n"
     ]
    }
   ],
   "source": [
    "for i in range(39,46):\n",
    "  print(all_tables[i])\n",
    "  print(i)\n",
    "  print(\"\\n\")"
   ]
  },
  {
   "cell_type": "code",
   "execution_count": null,
   "id": "0e523571",
   "metadata": {},
   "outputs": [],
   "source": []
  }
 ],
 "metadata": {
  "kernelspec": {
   "display_name": "base",
   "language": "python",
   "name": "python3"
  },
  "language_info": {
   "codemirror_mode": {
    "name": "ipython",
    "version": 3
   },
   "file_extension": ".py",
   "mimetype": "text/x-python",
   "name": "python",
   "nbconvert_exporter": "python",
   "pygments_lexer": "ipython3",
   "version": "3.12.7"
  }
 },
 "nbformat": 4,
 "nbformat_minor": 5
}
