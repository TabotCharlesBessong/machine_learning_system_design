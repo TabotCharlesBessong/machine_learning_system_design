{
 "cells": [
  {
   "cell_type": "code",
   "execution_count": null,
   "id": "d15b2944",
   "metadata": {},
   "outputs": [],
   "source": [
    "import pandas as pd\n",
    "import pickle\n",
    "from scipy.stats import poisson"
   ]
  },
  {
   "cell_type": "code",
   "execution_count": null,
   "id": "aad9c693",
   "metadata": {},
   "outputs": [],
   "source": [
    "dict_table = pickle.load(open('./data/dict_table','rb'))\n",
    "df_historical_data = pd.read_csv('./data/clean_fifa_worldcup_matches.csv')\n",
    "df_fixture = pd.read_csv('./data/clean_fifa_worldcup_fixture.csv')"
   ]
  },
  {
   "cell_type": "markdown",
   "id": "e2a7fdf3",
   "metadata": {},
   "source": [
    "# Calculate Team Strength"
   ]
  },
  {
   "cell_type": "code",
   "execution_count": null,
   "id": "4e65ba2b",
   "metadata": {
    "scrolled": false
   },
   "outputs": [],
   "source": [
    "df_home = df_historical_data[['HomeTeam', 'HomeGoals', 'AwayGoals']]\n",
    "df_away = df_historical_data[['AwayTeam', 'HomeGoals', 'AwayGoals']]\n",
    "\n",
    "df_home = df_home.rename(columns={'HomeTeam':'Team', 'HomeGoals': 'GoalsScored', 'AwayGoals': 'GoalsConceded'})\n",
    "df_away = df_away.rename(columns={'AwayTeam':'Team', 'HomeGoals': 'GoalsConceded', 'AwayGoals': 'GoalsScored'})\n",
    "\n",
    "df_team_strength = pd.concat([df_home, df_away], ignore_index=True).groupby(['Team']).mean()\n",
    "df_team_strength[10:15]"
   ]
  },
  {
   "cell_type": "markdown",
   "id": "1dc8a108",
   "metadata": {},
   "source": [
    "# Function predict_points"
   ]
  },
  {
   "cell_type": "code",
   "execution_count": null,
   "id": "6b2baf3d",
   "metadata": {},
   "outputs": [],
   "source": [
    "def predict_points(home, away):\n",
    "    if home in df_team_strength.index and away in df_team_strength.index:\n",
    "        # goals_scored * goals_conceded\n",
    "        lamb_home = df_team_strength.at[home,'GoalsScored'] * df_team_strength.at[away,'GoalsConceded']\n",
    "        lamb_away = df_team_strength.at[away,'GoalsScored'] * df_team_strength.at[home,'GoalsConceded']\n",
    "        prob_home, prob_away, prob_draw = 0, 0, 0\n",
    "        for x in range(0,11): #number of goals home team\n",
    "            for y in range(0, 11): #number of goals away team\n",
    "                p = poisson.pmf(x, lamb_home) * poisson.pmf(y, lamb_away)\n",
    "                if x == y:\n",
    "                    prob_draw += p\n",
    "                elif x > y:\n",
    "                    prob_home += p\n",
    "                else:\n",
    "                    prob_away += p\n",
    "        \n",
    "        points_home = 3 * prob_home + prob_draw\n",
    "        points_away = 3 * prob_away + prob_draw\n",
    "        return (points_home, points_away)\n",
    "    else:\n",
    "        return (0, 0)"
   ]
  },
  {
   "cell_type": "markdown",
   "id": "c80b2446",
   "metadata": {},
   "source": [
    "## Testing function"
   ]
  },
  {
   "cell_type": "code",
   "execution_count": null,
   "id": "e637692e",
   "metadata": {
    "scrolled": true
   },
   "outputs": [],
   "source": [
    "print(predict_points('England', 'United States'))\n",
    "print(predict_points('Argentina', 'Mexico'))\n",
    "print(predict_points('Qatar (H)', 'Ecuador')) # Qatar vs Team X -> 0 points to both\n",
    "print(predict_points('Cameroon', 'Argentina')) # Cameroon vs Argentina -> 0 points to Cameroon, 3 points to Brazil"
   ]
  },
  {
   "cell_type": "markdown",
   "id": "01b660e0",
   "metadata": {},
   "source": [
    "# Predicting World Cup"
   ]
  },
  {
   "cell_type": "markdown",
   "id": "74308e2d",
   "metadata": {},
   "source": [
    "## Group stage"
   ]
  },
  {
   "cell_type": "code",
   "execution_count": null,
   "id": "2afedebc",
   "metadata": {
    "scrolled": true
   },
   "outputs": [],
   "source": [
    "df_fixture_group_48 = df_fixture[:48].copy()\n",
    "df_fixture_knockout = df_fixture[48:56].copy()\n",
    "df_fixture_quarter = df_fixture[56:60].copy()\n",
    "df_fixture_semi = df_fixture[60:62].copy()\n",
    "df_fixture_final = df_fixture[62:].copy()"
   ]
  },
  {
   "cell_type": "code",
   "execution_count": null,
   "id": "2072fa74",
   "metadata": {},
   "outputs": [],
   "source": [
    "for group in dict_table:\n",
    "    teams_in_group = dict_table[group]['Team'].values\n",
    "    df_fixture_group_6 = df_fixture_group_48[df_fixture_group_48['home'].isin(teams_in_group)]\n",
    "    for index, row in df_fixture_group_6.iterrows():\n",
    "        home, away = row['home'], row['away']\n",
    "        points_home, points_away = predict_points(home, away)\n",
    "        dict_table[group].loc[dict_table[group]['Team'] == home, 'Pts'] += points_home\n",
    "        dict_table[group].loc[dict_table[group]['Team'] == away, 'Pts'] += points_away\n",
    "\n",
    "    dict_table[group] = dict_table[group].sort_values('Pts', ascending=False).reset_index()\n",
    "    dict_table[group] = dict_table[group][['Team', 'Pts']]\n",
    "    dict_table[group] = dict_table[group].round(0)"
   ]
  },
  {
   "cell_type": "code",
   "execution_count": null,
   "id": "4ccf61dc",
   "metadata": {},
   "outputs": [],
   "source": [
    "dict_table['Group A']"
   ]
  },
  {
   "cell_type": "markdown",
   "id": "33727ec8",
   "metadata": {},
   "source": [
    "## Knock out"
   ]
  },
  {
   "cell_type": "code",
   "execution_count": null,
   "id": "2821c0c6",
   "metadata": {},
   "outputs": [],
   "source": [
    "df_fixture_knockout"
   ]
  },
  {
   "cell_type": "code",
   "execution_count": null,
   "id": "6937ae74",
   "metadata": {
    "scrolled": true
   },
   "outputs": [],
   "source": [
    "for group in dict_table:\n",
    "    group_winner = dict_table[group].loc[0, 'Team']\n",
    "    runners_up = dict_table[group].loc[1, 'Team']\n",
    "    df_fixture_knockout.replace({f'Winners {group}':group_winner,\n",
    "                                 f'Runners-up {group}':runners_up}, inplace=True)\n",
    "\n",
    "df_fixture_knockout['winner'] = '?'\n",
    "df_fixture_knockout"
   ]
  },
  {
   "cell_type": "code",
   "execution_count": null,
   "id": "cab70cec",
   "metadata": {},
   "outputs": [],
   "source": [
    "def get_winner(df_fixture_updated):\n",
    "    for index, row in df_fixture_updated.iterrows():\n",
    "        home, away = row['home'], row['away']\n",
    "        points_home, points_away = predict_points(home, away)\n",
    "        if points_home > points_away:\n",
    "            winner = home\n",
    "        else:\n",
    "            winner = away\n",
    "        df_fixture_updated.loc[index, 'winner'] = winner\n",
    "    return df_fixture_updated"
   ]
  },
  {
   "cell_type": "code",
   "execution_count": null,
   "id": "ca37144f",
   "metadata": {},
   "outputs": [],
   "source": [
    "get_winner(df_fixture_knockout)"
   ]
  },
  {
   "cell_type": "markdown",
   "id": "5ef66f16",
   "metadata": {},
   "source": [
    "## Quarter Final"
   ]
  },
  {
   "cell_type": "code",
   "execution_count": null,
   "id": "d3b199c7",
   "metadata": {},
   "outputs": [],
   "source": [
    "def update_table(df_fixture_round_1, df_fixture_round_2):\n",
    "    for index, row in df_fixture_round_1.iterrows():\n",
    "        winner = df_fixture_round_1.loc[index, 'winner']\n",
    "        match = df_fixture_round_1.loc[index, 'score']\n",
    "        df_fixture_round_2.replace({f'Winners {match}':winner}, inplace=True)\n",
    "    df_fixture_round_2['winner'] = '?'\n",
    "    return df_fixture_round_2"
   ]
  },
  {
   "cell_type": "code",
   "execution_count": null,
   "id": "948fb0ee",
   "metadata": {},
   "outputs": [],
   "source": [
    "update_table(df_fixture_knockout, df_fixture_quarter)"
   ]
  },
  {
   "cell_type": "code",
   "execution_count": null,
   "id": "720c7b5f",
   "metadata": {
    "scrolled": true
   },
   "outputs": [],
   "source": [
    "get_winner(df_fixture_quarter)"
   ]
  },
  {
   "cell_type": "markdown",
   "id": "272b75b9",
   "metadata": {},
   "source": [
    "## Semifinal"
   ]
  },
  {
   "cell_type": "code",
   "execution_count": null,
   "id": "75f35428",
   "metadata": {},
   "outputs": [],
   "source": [
    "update_table(df_fixture_quarter, df_fixture_semi)"
   ]
  },
  {
   "cell_type": "code",
   "execution_count": null,
   "id": "e1524099",
   "metadata": {},
   "outputs": [],
   "source": [
    "get_winner(df_fixture_semi)"
   ]
  },
  {
   "cell_type": "markdown",
   "id": "26439e8f",
   "metadata": {},
   "source": [
    "## Final"
   ]
  },
  {
   "cell_type": "code",
   "execution_count": null,
   "id": "da072631",
   "metadata": {},
   "outputs": [],
   "source": [
    "update_table(df_fixture_semi, df_fixture_final)"
   ]
  },
  {
   "cell_type": "code",
   "execution_count": null,
   "id": "4b2795e4",
   "metadata": {},
   "outputs": [],
   "source": [
    "get_winner(df_fixture_final)"
   ]
  },
  {
   "cell_type": "code",
   "execution_count": null,
   "id": "26350d16",
   "metadata": {},
   "outputs": [],
   "source": []
  }
 ],
 "metadata": {
  "kernelspec": {
   "display_name": "base",
   "language": "python",
   "name": "python3"
  },
  "language_info": {
   "codemirror_mode": {
    "name": "ipython",
    "version": 3
   },
   "file_extension": ".py",
   "mimetype": "text/x-python",
   "name": "python",
   "nbconvert_exporter": "python",
   "pygments_lexer": "ipython3",
   "version": "3.12.7"
  },
  "toc": {
   "base_numbering": 1,
   "nav_menu": {},
   "number_sections": true,
   "sideBar": true,
   "skip_h1_title": false,
   "title_cell": "Table of Contents",
   "title_sidebar": "Contents",
   "toc_cell": false,
   "toc_position": {},
   "toc_section_display": true,
   "toc_window_display": false
  }
 },
 "nbformat": 4,
 "nbformat_minor": 5
}
