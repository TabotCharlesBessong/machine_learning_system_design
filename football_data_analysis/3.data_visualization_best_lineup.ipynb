{
 "cells": [
  {
   "cell_type": "code",
   "execution_count": null,
   "id": "4d47c598",
   "metadata": {},
   "outputs": [],
   "source": [
    "import pandas as pd\n",
    "import seaborn as sns\n",
    "import matplotlib.pyplot as plt\n",
    "sns.set_style('darkgrid')"
   ]
  },
  {
   "cell_type": "code",
   "execution_count": null,
   "id": "a074903c",
   "metadata": {},
   "outputs": [],
   "source": [
    "# nation_position, club_position, player_positions\n",
    "df = pd.read_csv('./data/players_22.csv', low_memory=False)"
   ]
  },
  {
   "cell_type": "code",
   "execution_count": null,
   "id": "b3a08d31",
   "metadata": {},
   "outputs": [],
   "source": [
    "players_missing_worldcup = ['K. Benzema', 'S. Mané', 'S. Agüero', 'Sergio Ramos', 'P. Pogba',\n",
    "                            'M. Reus', 'Diogo Jota', 'A. Harit', 'N. Kanté', 'G. Lo Celso', 'Piqué']\n",
    "\n",
    "# dropping injured players\n",
    "drop_index = df[df['short_name'].isin(players_missing_worldcup)].index\n",
    "df.drop(drop_index, axis=0, inplace=True)"
   ]
  },
  {
   "cell_type": "code",
   "execution_count": null,
   "id": "d69e9bc4",
   "metadata": {},
   "outputs": [],
   "source": [
    "teams_worldcup = [\n",
    "    'Qatar', 'Brazil', 'Belgium', 'France', 'Argentina', 'England', 'Spain', 'Portugal',\n",
    "    'Mexico', 'Netherlands', 'Denmark', 'Germany', 'Uruguay', 'Switzerland', 'United States', 'Croatia',\n",
    "    'Senegal', 'Iran', 'Japan', 'Morocco', 'Serbia', 'Poland', 'South Korea', 'Tunisia',\n",
    "    'Cameroon', 'Canada', 'Ecuador', 'Saudi Arabia', 'Ghana', 'Wales', 'Costa Rica', 'Australia'\n",
    "]\n",
    "\n",
    "# filtering only national teams in the world cup\n",
    "df = df[df['nationality_name'].isin(teams_worldcup)]"
   ]
  },
  {
   "cell_type": "code",
   "execution_count": null,
   "id": "c1b6c8c2",
   "metadata": {},
   "outputs": [],
   "source": [
    "# best players\n",
    "df.sort_values(by=['overall', 'potential', 'value_eur'], ascending=False, inplace=True)"
   ]
  },
  {
   "cell_type": "markdown",
   "id": "4ec7f92a",
   "metadata": {},
   "source": [
    "# Distribution of players overall"
   ]
  },
  {
   "cell_type": "code",
   "execution_count": null,
   "id": "fcf71ddd",
   "metadata": {},
   "outputs": [],
   "source": [
    "import numpy as np\n",
    "fig, ax = plt.subplots(figsize=(12, 5), tight_layout=True)\n",
    "\n",
    "sns.histplot(df, x='overall', binwidth=1)\n",
    "\n",
    "bins = np.arange(df['overall'].min(), df['overall'].max(), 1)\n",
    "plt.xticks(bins)\n",
    "plt.show()"
   ]
  },
  {
   "cell_type": "markdown",
   "id": "8bd3f3a5",
   "metadata": {},
   "source": [
    "# Dream Team World Cup Players"
   ]
  },
  {
   "cell_type": "code",
   "execution_count": null,
   "id": "e6ec9931",
   "metadata": {
    "scrolled": false
   },
   "outputs": [],
   "source": [
    "df.drop_duplicates('player_positions')\n",
    "# viz -> https://trinket.io/python/0813ea96f6"
   ]
  },
  {
   "cell_type": "markdown",
   "id": "63bb3664",
   "metadata": {},
   "source": [
    "# The Most Skillful Players on each National Team"
   ]
  },
  {
   "cell_type": "code",
   "execution_count": null,
   "id": "958d16e8",
   "metadata": {
    "scrolled": false
   },
   "outputs": [],
   "source": [
    "df_best_players = df.copy()\n",
    "df_best_players = df_best_players.drop_duplicates('nationality_name').reset_index(drop=True)\n",
    "country_short =  df_best_players['nationality_name'].str.extract('(^\\w{3})', expand=False).str.upper()\n",
    "df_best_players['name_nationality'] = df_best_players['short_name'] +' (' + country_short + ')'\n",
    "\n",
    "fig, ax = plt.subplots(figsize=(10, 6), tight_layout=True)\n",
    "\n",
    "sns.barplot(df_best_players, x='overall', y='name_nationality',\n",
    "            palette=sns.color_palette('pastel'), width=0.5)\n",
    "plt.show()"
   ]
  },
  {
   "cell_type": "markdown",
   "id": "730edea7",
   "metadata": {},
   "source": [
    "# Best Squad per Team"
   ]
  },
  {
   "cell_type": "code",
   "execution_count": null,
   "id": "6d1e7109",
   "metadata": {
    "scrolled": true
   },
   "outputs": [],
   "source": [
    "def best_squad(nationality):\n",
    "    df_best_squad = df.copy()\n",
    "    df_best_squad = df_best_squad.groupby(['nationality_name', 'player_positions']).head(2)\n",
    "    df_best_squad = df_best_squad[df_best_squad['nationality_name']==nationality].sort_values(['player_positions', 'overall', 'potential'], ascending=False)\n",
    "    return df_best_squad"
   ]
  },
  {
   "cell_type": "code",
   "execution_count": null,
   "id": "348cc1ea",
   "metadata": {
    "scrolled": true
   },
   "outputs": [],
   "source": [
    "best_squad('Brazil')"
   ]
  },
  {
   "cell_type": "code",
   "execution_count": null,
   "id": "437bffd1",
   "metadata": {
    "scrolled": true
   },
   "outputs": [],
   "source": [
    "average_overall = [best_squad(team)['overall'].mean() for team in teams_worldcup]\n",
    "\n",
    "df_average_overall = pd.DataFrame({'Teams': teams_worldcup, 'AVG_Overall': average_overall})\n",
    "df_average_overall = df_average_overall.dropna()\n",
    "df_average_overall = df_average_overall.sort_values('AVG_Overall', ascending=False)\n",
    "df_average_overall"
   ]
  },
  {
   "cell_type": "code",
   "execution_count": null,
   "id": "6b4b71d5",
   "metadata": {},
   "outputs": [],
   "source": [
    "fig, ax = plt.subplots(figsize=(12, 5), tight_layout=True)\n",
    "\n",
    "sns.barplot(df_average_overall[:10], x='Teams', y='AVG_Overall',\n",
    "            palette=sns.color_palette('pastel'))\n",
    "plt.show()"
   ]
  },
  {
   "cell_type": "markdown",
   "id": "156c025e",
   "metadata": {},
   "source": [
    "# Best Formation for each team"
   ]
  },
  {
   "cell_type": "code",
   "execution_count": null,
   "id": "c9537689",
   "metadata": {},
   "outputs": [],
   "source": [
    "def best_lineup(nationality, lineup):\n",
    "    lineup_count = [lineup.count(i) for i in lineup]\n",
    "\n",
    "    df_lineup = pd.DataFrame({'position': lineup, 'count': lineup_count})\n",
    "    positions_non_repeated = df_lineup[df_lineup['count'] <= 1]['position'].values\n",
    "    positions_repeated = df_lineup[df_lineup['count'] > 1]['position'].values\n",
    "\n",
    "    df_squad = best_squad(nationality)\n",
    "\n",
    "    df_lineup = pd.concat([\n",
    "        df_squad[df_squad['player_positions'].isin(positions_non_repeated)].drop_duplicates('player_positions', keep='first'),\n",
    "        df_squad[df_squad['player_positions'].isin(positions_repeated)]]\n",
    "    )\n",
    "    return df_lineup[['short_name', 'overall', 'club_name', 'player_positions']]"
   ]
  },
  {
   "cell_type": "code",
   "execution_count": null,
   "id": "0941f989",
   "metadata": {},
   "outputs": [],
   "source": [
    "dict_formation = {\n",
    "    '4-3-3': ['GK', 'RB', 'CB', 'CB', 'LB', 'CDM', 'CM', 'CAM', 'RW', 'ST', 'LW'],\n",
    "    '4-4-2': ['GK', 'RB', 'CB', 'CB', 'LB', 'RM', 'CM', 'CM', 'LM', 'ST', 'ST'],\n",
    "    '4-2-3-1': ['GK', 'RB', 'CB', 'CB', 'LB', 'CDM', 'CDM', 'CAM', 'CAM', 'CAM', 'ST'],\n",
    "}"
   ]
  },
  {
   "cell_type": "code",
   "execution_count": null,
   "id": "7ff2ee2b",
   "metadata": {
    "scrolled": true
   },
   "outputs": [],
   "source": [
    "for index, row in df_average_overall[:9].iterrows():\n",
    "    max_average = None\n",
    "    for key, values in dict_formation.items():\n",
    "        average = best_lineup(row['Teams'], values)['overall'].mean()\n",
    "        if max_average is None or average>max_average:\n",
    "            max_average = average\n",
    "            formation = key\n",
    "    print(row['Teams'], formation, max_average)"
   ]
  },
  {
   "cell_type": "code",
   "execution_count": null,
   "id": "5e44099d",
   "metadata": {},
   "outputs": [],
   "source": [
    "# best_lineup('Spain', dict_formation['4-2-3-1'])\n",
    "# best_lineup('Argentina', dict_formation['4-3-3'])\n",
    "best_lineup('Brazil', dict_formation['4-3-3'])"
   ]
  }
 ],
 "metadata": {
  "kernelspec": {
   "display_name": "base",
   "language": "python",
   "name": "python3"
  },
  "language_info": {
   "codemirror_mode": {
    "name": "ipython",
    "version": 3
   },
   "file_extension": ".py",
   "mimetype": "text/x-python",
   "name": "python",
   "nbconvert_exporter": "python",
   "pygments_lexer": "ipython3",
   "version": "3.12.7"
  },
  "toc": {
   "base_numbering": 1,
   "nav_menu": {},
   "number_sections": true,
   "sideBar": true,
   "skip_h1_title": false,
   "title_cell": "Table of Contents",
   "title_sidebar": "Contents",
   "toc_cell": false,
   "toc_position": {},
   "toc_section_display": true,
   "toc_window_display": false
  }
 },
 "nbformat": 4,
 "nbformat_minor": 5
}
